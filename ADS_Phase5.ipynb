{
  "nbformat": 4,
  "nbformat_minor": 0,
  "metadata": {
    "colab": {
      "provenance": []
    },
    "kernelspec": {
      "name": "python3",
      "display_name": "Python 3"
    },
    "language_info": {
      "name": "python"
    }
  },
  "cells": [
    {
      "cell_type": "markdown",
      "source": [
        "# Electricity-Prices-Prediction\n",
        "This Project Aims to develop a predictive model that uses historical electricity prices and relevant factors to forecast future electricity prices. The objective is to create a tool that assists both energy providers and consumers in making informed decisions regarding consumption and investment by predicting future electricity prices.\n",
        "## Table Of Contents\n",
        "- [Installation]\n",
        "- [Data Preprocessing]\n",
        "- [Feature Engineering]\n",
        "- [Model Selection]\n",
        "- [Model Training]\n",
        "- [Evaluation]\n",
        "## Installation\n",
        "- Download the Dataset via the [link](https://www.kaggle.com/datasets/chakradharmattapalli/electricity-price-prediction).\n",
        "- Copy the Github link and Clone this Repository into your local Device\n",
        "## Usage\n",
        "- Head to the Repository Path and Upload ADS_Phase4 file into any of your ipynb Simulators\n",
        "- Link the Downloaded Dataset into the ipynb File\n",
        "## Data Preprocessing\n",
        "- Convert the Datatype of the columns in the Dataset as per their Requirements\n",
        "- Replace the Missing Values using NaN values by Pandas library\n",
        "- Handle Missing Values using ffill method to replace NaN Values\n",
        "## Feature Engineering\n",
        "Create additional features that could enhance the predictive power of the model, such as time-based features and lagged variables.\n",
        "## Model Selection\n",
        "Arima Model is Preferred because it uses differenced data to make the data stationary, which means there's a consistency of the data over time. This function removes the effect of trends or seasonality, such as market or economic data.\n",
        "## Model Training\n",
        "- Resample the Dataset and Plot the New SubPlots\n",
        "- Find P,D,Q Values\n",
        "- Fit the Model using Resampled Dataset and P,D,Q Values\n",
        "## Evaluation\n",
        "- Train and Test the Arima Model by Splitting the Time Series dataset\n",
        "- Fit the Target Data into Auto ARIMA model and Predict the Future Values by Forecasting\n",
        "- Plot the Predicted Target Data\n",
        "- Plot the Predicted Target Data for the Future Unseen Values"
      ],
      "metadata": {
        "id": "en3O1MCuDvtL"
      }
    }
  ]
}